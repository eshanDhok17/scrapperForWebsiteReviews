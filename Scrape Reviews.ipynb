{
  "cells": [
    {
      "cell_type": "markdown",
      "source": [
        "# **Code By Eshan Dhok**\n",
        "# ***Data Scraped from trust pilot site and saved to xlsx file using python, soup and google colab files.***\n"
      ],
      "metadata": {
        "id": "DyJMCCsbnmec"
      }
    },
    {
      "cell_type": "code",
      "source": [
        "import requests\n",
        "from bs4 import BeautifulSoup\n",
        "import openpyxl\n",
        "from google.colab import files\n",
        "from datetime import datetime\n",
        "\n",
        "# URL of the Trustpilot review page\n",
        "url = 'https://www.trustpilot.com/review/kohler.com'\n",
        "response = requests.get(url)\n",
        "soup = BeautifulSoup(response.content, 'html.parser')\n",
        "\n",
        "# Extracting reviews\n",
        "reviews = soup.find_all('div', class_='styles_reviewCardInner__EwDq2')\n",
        "\n",
        "data = []\n",
        "for index, review in enumerate(reviews, start=1):\n",
        "    name = review.find('span', class_='typography_heading-xxs__QKBS8 typography_appearance-default__AAY17').text.strip()\n",
        "    # print(\"name: \" + name)\n",
        "\n",
        "    location = review.find('div', class_='typography_body-m__xgxZ_ typography_appearance-subtle__8_H2l styles_detailsIcon__Fo_ua').text.strip() if review.find('div', class_='typography_body-m__xgxZ_ typography_appearance-subtle__8_H2l styles_detailsIcon__Fo_ua') else 'N/A'\n",
        "    # print(\"location: \" + location)\n",
        "\n",
        "    review_description = review.find('p', class_='typography_body-l__KUYFJ typography_appearance-default__AAY17 typography_color-black__5LYEn').text.strip()\n",
        "    # print(\"reviews: \" + review_description)\n",
        "\n",
        "    a = review.find('time')['datetime'].strip()\n",
        "\n",
        "    rating = ''\n",
        "\n",
        "    # converting to wanted format\n",
        "    review_comment_date = datetime.strptime(a, \"%Y-%m-%dT%H:%M:%S.%fZ\").strftime(\"%d-%m-%Y\")\n",
        "\n",
        "    # print(review_comment_date)\n",
        "\n",
        "    issue_with = review.find('h2', class_='typography_heading-s__f7029 typography_appearance-default__AAY17').text.strip() if review.find('h2', class_='typography_heading-s__f7029 typography_appearance-default__AAY17') else 'N/A'\n",
        "    # print(\"issue_with\" + issue_with)\n",
        "\n",
        "\n",
        "    data.append([index, name, location, review_description, rating, review_comment_date, issue_with])\n",
        "\n",
        "# Generating the XLSX File\n",
        "wb = openpyxl.Workbook()\n",
        "ws = wb.active\n",
        "ws.append([\"Sr. No\", \"Name\", \"Location\", \"Review Description\", \"Rating\", \"Review Comment Date\", \"Issue With\", \"Parameters\", \"Remarks\"])\n",
        "\n",
        "for row in data:\n",
        "    ws.append(row)\n",
        "\n",
        "column_widths = {\n",
        "    \"A\": 5,\n",
        "    \"B\": 20,\n",
        "    \"C\": 10,\n",
        "    \"D\": 50,\n",
        "    \"E\": 12,\n",
        "    \"F\": 60,\n",
        "    \"G\": 18,\n",
        "    \"H\": 15,\n",
        "    \"I\": 15\n",
        "}\n",
        "\n",
        "for col, width in column_widths.items():\n",
        "    ws.column_dimensions[col].width = width\n",
        "\n",
        "# Save the file\n",
        "wb.save('trustpilot reviews_v1.0.xlsx')\n",
        "\n",
        "# print(\"Data has been written to reviews.xlsx\")\n",
        "\n",
        "# Download the file\n",
        "files.download('trustpilot reviews_v1.0.xlsx')"
      ],
      "metadata": {
        "collapsed": true,
        "colab": {
          "base_uri": "https://localhost:8080/",
          "height": 17
        },
        "id": "vA7Mm6y6mPN2",
        "outputId": "592c930f-8532-468f-cc4e-49ccceffd2af"
      },
      "execution_count": 51,
      "outputs": [
        {
          "output_type": "display_data",
          "data": {
            "text/plain": [
              "<IPython.core.display.Javascript object>"
            ],
            "application/javascript": [
              "\n",
              "    async function download(id, filename, size) {\n",
              "      if (!google.colab.kernel.accessAllowed) {\n",
              "        return;\n",
              "      }\n",
              "      const div = document.createElement('div');\n",
              "      const label = document.createElement('label');\n",
              "      label.textContent = `Downloading \"${filename}\": `;\n",
              "      div.appendChild(label);\n",
              "      const progress = document.createElement('progress');\n",
              "      progress.max = size;\n",
              "      div.appendChild(progress);\n",
              "      document.body.appendChild(div);\n",
              "\n",
              "      const buffers = [];\n",
              "      let downloaded = 0;\n",
              "\n",
              "      const channel = await google.colab.kernel.comms.open(id);\n",
              "      // Send a message to notify the kernel that we're ready.\n",
              "      channel.send({})\n",
              "\n",
              "      for await (const message of channel.messages) {\n",
              "        // Send a message to notify the kernel that we're ready.\n",
              "        channel.send({})\n",
              "        if (message.buffers) {\n",
              "          for (const buffer of message.buffers) {\n",
              "            buffers.push(buffer);\n",
              "            downloaded += buffer.byteLength;\n",
              "            progress.value = downloaded;\n",
              "          }\n",
              "        }\n",
              "      }\n",
              "      const blob = new Blob(buffers, {type: 'application/binary'});\n",
              "      const a = document.createElement('a');\n",
              "      a.href = window.URL.createObjectURL(blob);\n",
              "      a.download = filename;\n",
              "      div.appendChild(a);\n",
              "      a.click();\n",
              "      div.remove();\n",
              "    }\n",
              "  "
            ]
          },
          "metadata": {}
        },
        {
          "output_type": "display_data",
          "data": {
            "text/plain": [
              "<IPython.core.display.Javascript object>"
            ],
            "application/javascript": [
              "download(\"download_68d671ec-fb3d-4857-a956-5296737fd6f0\", \"trustpilot reviews_v1.0.xlsx\", 11035)"
            ]
          },
          "metadata": {}
        }
      ]
    }
  ],
  "metadata": {
    "colab": {
      "name": "Welcome To Colab",
      "toc_visible": true,
      "provenance": []
    },
    "kernelspec": {
      "display_name": "Python 3",
      "name": "python3"
    }
  },
  "nbformat": 4,
  "nbformat_minor": 0
}